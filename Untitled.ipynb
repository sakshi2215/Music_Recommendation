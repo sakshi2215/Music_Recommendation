{
 "cells": [
  {
   "cell_type": "code",
   "execution_count": 1,
   "id": "cf04cbc6",
   "metadata": {},
   "outputs": [
    {
     "ename": "ModuleNotFoundError",
     "evalue": "No module named 'tensorflow'",
     "output_type": "error",
     "traceback": [
      "\u001b[1;31m---------------------------------------------------------------------------\u001b[0m",
      "\u001b[1;31mModuleNotFoundError\u001b[0m                       Traceback (most recent call last)",
      "Cell \u001b[1;32mIn[1], line 4\u001b[0m\n\u001b[0;32m      2\u001b[0m \u001b[38;5;28;01mimport\u001b[39;00m \u001b[38;5;21;01mnumpy\u001b[39;00m \u001b[38;5;28;01mas\u001b[39;00m \u001b[38;5;21;01mnp\u001b[39;00m \n\u001b[0;32m      3\u001b[0m \u001b[38;5;28;01mimport\u001b[39;00m \u001b[38;5;21;01mcv2\u001b[39;00m \n\u001b[1;32m----> 4\u001b[0m \u001b[38;5;28;01mfrom\u001b[39;00m \u001b[38;5;21;01mtensorflow\u001b[39;00m\u001b[38;5;21;01m.\u001b[39;00m\u001b[38;5;21;01mkeras\u001b[39;00m\u001b[38;5;21;01m.\u001b[39;00m\u001b[38;5;21;01mutils\u001b[39;00m \u001b[38;5;28;01mimport\u001b[39;00m to_categorical\n\u001b[0;32m      6\u001b[0m \u001b[38;5;28;01mfrom\u001b[39;00m \u001b[38;5;21;01mkeras\u001b[39;00m\u001b[38;5;21;01m.\u001b[39;00m\u001b[38;5;21;01mlayers\u001b[39;00m \u001b[38;5;28;01mimport\u001b[39;00m Input, Dense \n\u001b[0;32m      7\u001b[0m \u001b[38;5;28;01mfrom\u001b[39;00m \u001b[38;5;21;01mkeras\u001b[39;00m\u001b[38;5;21;01m.\u001b[39;00m\u001b[38;5;21;01mmodels\u001b[39;00m \u001b[38;5;28;01mimport\u001b[39;00m Model\n",
      "\u001b[1;31mModuleNotFoundError\u001b[0m: No module named 'tensorflow'"
     ]
    }
   ],
   "source": [
    "import os  \n",
    "import numpy as np \n",
    "import cv2 \n",
    "from tensorflow.keras.utils import to_categorical\n",
    "\n",
    "from keras.layers import Input, Dense \n",
    "from keras.models import Model\n",
    " \n",
    "is_init = False\n",
    "size = -1\n",
    "\n",
    "label = []\n",
    "dictionary = {}\n",
    "c = 0\n",
    "\n",
    "for i in os.listdir():\n",
    "\tif i.split(\".\")[-1] == \"npy\" and not(i.split(\".\")[0] == \"labels\"):  \n",
    "\t\tif not(is_init):\n",
    "\t\t\tis_init = True \n",
    "\t\t\tX = np.load(i)\n",
    "\t\t\tsize = X.shape[0]\n",
    "\t\t\ty = np.array([i.split('.')[0]]*size).reshape(-1,1)\n",
    "\t\telse:\n",
    "\t\t\tX = np.concatenate((X, np.load(i)))\n",
    "\t\t\ty = np.concatenate((y, np.array([i.split('.')[0]]*size).reshape(-1,1)))\n",
    "\n",
    "\t\tlabel.append(i.split('.')[0])\n",
    "\t\tdictionary[i.split('.')[0]] = c  \n",
    "\t\tc = c+1\n",
    "\n",
    "\n",
    "for i in range(y.shape[0]):\n",
    "\ty[i, 0] = dictionary[y[i, 0]]\n",
    "y = np.array(y, dtype=\"int32\")\n",
    "\n",
    "###  hello = 0 nope = 1 ---> [1,0] ... [0,1]\n",
    "\n",
    "y = to_categorical(y)\n",
    "\n",
    "X_new = X.copy()\n",
    "y_new = y.copy()\n",
    "counter = 0 \n",
    "\n",
    "cnt = np.arange(X.shape[0])\n",
    "np.random.shuffle(cnt)\n",
    "\n",
    "for i in cnt: \n",
    "\tX_new[counter] = X[i]\n",
    "\ty_new[counter] = y[i]\n",
    "\tcounter = counter + 1\n",
    "\n",
    "\n",
    "ip = Input(shape=(X.shape[1]))\n",
    "\n",
    "m = Dense(512, activation=\"relu\")(ip)\n",
    "m = Dense(256, activation=\"relu\")(m)\n",
    "\n",
    "op = Dense(y.shape[1], activation=\"softmax\")(m) \n",
    "\n",
    "model = Model(inputs=ip, outputs=op)\n",
    "\n",
    "model.compile(optimizer='rmsprop', loss=\"categorical_crossentropy\", metrics=['acc'])\n",
    "\n",
    "model.fit(X, y, epochs=50)\n",
    "\n",
    "\n",
    "model.save(\"model.h5\")\n",
    "np.save(\"labels.npy\", np.array(label))"
   ]
  },
  {
   "cell_type": "code",
   "execution_count": null,
   "id": "453e2864",
   "metadata": {},
   "outputs": [],
   "source": []
  },
  {
   "cell_type": "code",
   "execution_count": null,
   "id": "eb7ec063",
   "metadata": {},
   "outputs": [],
   "source": []
  }
 ],
 "metadata": {
  "kernelspec": {
   "display_name": "Python 3 (ipykernel)",
   "language": "python",
   "name": "python3"
  },
  "language_info": {
   "codemirror_mode": {
    "name": "ipython",
    "version": 3
   },
   "file_extension": ".py",
   "mimetype": "text/x-python",
   "name": "python",
   "nbconvert_exporter": "python",
   "pygments_lexer": "ipython3",
   "version": "3.10.7"
  }
 },
 "nbformat": 4,
 "nbformat_minor": 5
}
